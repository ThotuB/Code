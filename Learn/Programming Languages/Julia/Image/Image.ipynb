{
 "cells": [
  {
   "cell_type": "code",
   "execution_count": null,
   "metadata": {},
   "outputs": [],
   "source": [
    "# Install Packages\n",
    "using Pkg\n",
    "Pkg.add(\"Images\")\n",
    "Pkg.add(\"TestImages\")\n",
    "Pkg.add(\"ImageTransformations\")\n",
    "Pkg.add(\"CoordinateTransformations\")\n",
    "Pkg.add(\"Rotations\")"
   ]
  },
  {
   "cell_type": "code",
   "execution_count": null,
   "metadata": {},
   "outputs": [],
   "source": [
    "using Images, TestImages, ImageTransformations, CoordinateTransformations, Rotations"
   ]
  },
  {
   "cell_type": "code",
   "execution_count": null,
   "metadata": {},
   "outputs": [],
   "source": [
    "url = \"https://i.redd.it/21pxzrquoeu71.jpg\"\n",
    "\n",
    "download(url, \"cat.jpg\")"
   ]
  },
  {
   "cell_type": "code",
   "execution_count": null,
   "metadata": {},
   "outputs": [],
   "source": [
    "# Display Image\n",
    "cat_pic = load(\"cat.jpg\")"
   ]
  },
  {
   "cell_type": "code",
   "execution_count": null,
   "metadata": {},
   "outputs": [],
   "source": [
    "# Size of the image\n",
    "h, w = size(cat_pic)"
   ]
  },
  {
   "cell_type": "code",
   "execution_count": null,
   "metadata": {},
   "outputs": [],
   "source": [
    "# Get Pixels Ranges\n",
    "chunk_size = 1000\n",
    "center_h, center_w = h ÷ 2, w ÷ 2\n",
    "\n",
    "start_w, end_w = center_w - chunk_size ÷ 2, center_w + chunk_size ÷ 2\n",
    "start_h, end_h = center_h - chunk_size ÷ 2, center_h + chunk_size ÷ 2\n",
    "\n",
    "cat_chunk = cat_pic[start_h:end_h, start_w:end_w]"
   ]
  },
  {
   "cell_type": "code",
   "execution_count": null,
   "metadata": {},
   "outputs": [],
   "source": [
    "# Cat Circle\n",
    "cat_cricle = [\n",
    "    cat_chunk reverse(cat_chunk, dims=2)\n",
    "    reverse(cat_chunk, dims=1) reverse(reverse(cat_chunk, dims=1), dims=2)\n",
    "]"
   ]
  },
  {
   "cell_type": "code",
   "execution_count": null,
   "metadata": {},
   "outputs": [],
   "source": [
    "# Grab RGB Channels\n",
    "function red(color)\n",
    "    return RGB(color.r, 0, 0)\n",
    "end\n",
    "\n",
    "function green(color)\n",
    "    return RGB(0, color.g, 0)\n",
    "end\n",
    "\n",
    "function blue(color)\n",
    "    return RGB(0, 0, color.b)\n",
    "end\n",
    "\n",
    "# Grab Red Channel of Image\n",
    "cat_red = red.(cat_chunk)\n",
    "cat_green = green.(cat_chunk)\n",
    "cat_blue = blue.(cat_chunk)\n",
    "\n",
    "channels_cat = [cat_red cat_green cat_blue]"
   ]
  }
 ],
 "metadata": {
  "interpreter": {
   "hash": "57baa5815c940fdaff4d14510622de9616cae602444507ba5d0b6727c008cbd6"
  },
  "kernelspec": {
   "display_name": "Julia 1.6.3",
   "language": "julia",
   "name": "julia-1.6"
  },
  "language_info": {
   "file_extension": ".jl",
   "mimetype": "application/julia",
   "name": "julia",
   "version": "1.6.3"
  },
  "orig_nbformat": 4
 },
 "nbformat": 4,
 "nbformat_minor": 2
}
